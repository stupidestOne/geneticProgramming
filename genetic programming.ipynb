{
 "cells": [
  {
   "cell_type": "code",
   "execution_count": 9,
   "metadata": {},
   "outputs": [],
   "source": [
    "import pandas as pd\n",
    "import numpy as np\n",
    "import random"
   ]
  },
  {
   "cell_type": "code",
   "execution_count": 10,
   "metadata": {},
   "outputs": [],
   "source": [
    "def fitness(pop,trainset,label):\n",
    "    fitn=[]\n",
    "    for i in range(len(pop)):\n",
    "        fit=(pop[i]*trainset).apply(lambda x:x.sum(),axis=1)\n",
    "        result=0\n",
    "        for value in range(len(fit)):\n",
    "            if (fit[value]<0 and label[value]==0) or (fit[value]>=0 and label[value]==1):\n",
    "                result=result+1\n",
    "        fitn.append(result/len(fit))\n",
    "    return fitn"
   ]
  },
  {
   "cell_type": "code",
   "execution_count": 11,
   "metadata": {},
   "outputs": [],
   "source": [
    "def selection(pop,adap,k):#binary tournament selection\n",
    "    totalAdap=sum(adap)\n",
    "    popToChild=[]\n",
    "    for i in range(int(len(pop)*k)):\n",
    "        group={}\n",
    "        for i in range(2):\n",
    "            target=int(random.random()*len(pop))\n",
    "            group[adap[target]]=pop[target]\n",
    "        popToChild.append(group[max(group)])\n",
    "    return popToChild"
   ]
  },
  {
   "cell_type": "code",
   "execution_count": 30,
   "metadata": {},
   "outputs": [],
   "source": [
    "def crossOver(pop,adap,children):\n",
    "    while len(pop)>len(children):\n",
    "        #use binary tournament selection to get parents.\n",
    "        father=selection(pop,adap,1/len(pop))\n",
    "        mother=selection(pop,adap,1/len(pop))\n",
    "        crossPoint=random.randint(0,len(pop[0])-1)\n",
    "        children.append(mother[0][:crossPoint]+father[0][crossPoint:])\n",
    "        children.append(father[0][:crossPoint]+mother[0][crossPoint:])\n",
    "    return children"
   ]
  },
  {
   "cell_type": "code",
   "execution_count": 31,
   "metadata": {},
   "outputs": [],
   "source": [
    "def mutation(pop,pm):\n",
    "    for i in range(len(pop)):\n",
    "        if random.random()<pm:\n",
    "            mPoint=random.randint(0,len(pop[0])-1)\n",
    "            pop[i][mPoint]=random.uniform(-1.0,1.0)\n",
    "    return pop"
   ]
  },
  {
   "cell_type": "code",
   "execution_count": 42,
   "metadata": {},
   "outputs": [
    {
     "name": "stdout",
     "output_type": "stream",
     "text": [
      "[10, 1.0, [0.10835625730910392, -0.26118720522875427, 0.5975135937980662, -0.39733828505553825, 0.9835589946874144, 0.15326222463671235, -0.6864077409339824, -0.5816897543194925, 0.3122516509516051, -0.07787506828291235]]\n"
     ]
    }
   ],
   "source": [
    "if __name__ == \"__main__\":\n",
    "    popSize=1000\n",
    "    chromLength=10\n",
    "    pc=0.6\n",
    "    pm=0.01\n",
    "    population=np.random.uniform(low=-1.0,high=1.0,size=(popSize,chromLength)).tolist()\n",
    "    \n",
    "    #read all training instances and split the expected output from them\n",
    "    total=pd.read_csv('data/training-set.csv',header=None)\n",
    "    trainset=total.drop(9,axis=1)\n",
    "    #add one to add one more input whose value is always 1\n",
    "    trainset[9]=1\n",
    "    label=pd.DataFrame(total[9])\n",
    "    label.columns=['label']\n",
    "    \n",
    "    fittest=[0,0,[]]\n",
    "    \n",
    "    for i in range(200):\n",
    "        adaptability=fitness(population,trainset,label.values)\n",
    "        #print(max(adaptability))\n",
    "        if max(adaptability)>fittest[1]:\n",
    "            fittest[0]=i+1\n",
    "            fittest[1]=max(adaptability)\n",
    "            fittest[2]=population[adaptability.index(max(adaptability))]\n",
    "        if np.mean(adaptability)>0.9:\n",
    "            break\n",
    "        #print(np.mean(adaptability))\n",
    "        #print(fittest)\n",
    "        children=selection(population,adaptability,0.1)\n",
    "        children=crossOver(population,adaptability,children)\n",
    "        population=mutation(children,pm)\n",
    "    print(fittest)"
   ]
  },
  {
   "cell_type": "code",
   "execution_count": null,
   "metadata": {},
   "outputs": [],
   "source": []
  }
 ],
 "metadata": {
  "kernelspec": {
   "display_name": "Python 3",
   "language": "python",
   "name": "python3"
  },
  "language_info": {
   "codemirror_mode": {
    "name": "ipython",
    "version": 3
   },
   "file_extension": ".py",
   "mimetype": "text/x-python",
   "name": "python",
   "nbconvert_exporter": "python",
   "pygments_lexer": "ipython3",
   "version": "3.6.7"
  }
 },
 "nbformat": 4,
 "nbformat_minor": 2
}
